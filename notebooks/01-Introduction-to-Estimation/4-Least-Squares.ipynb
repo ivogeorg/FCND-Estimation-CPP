{
 "cells": [
  {
   "cell_type": "markdown",
   "metadata": {},
   "source": [
    "# Least Squares\n",
    "\n",
    "In this notebook you'll use least squares to estimate a state vector $x$, given $m$ noisy measurements derived from:\n",
    "\n",
    "$\n",
    "\\tilde{y} = Hx + v\n",
    "$\n",
    "\n",
    "$v$ is sampled from gaussian $N(0, R)$, and $H$ is a matrix mapping the state space to the measurement space. We'll assume x is constant, meaning the vehicle is currently not moving.\n",
    "\n",
    "Thus you'll want to select an estimate of the state $x$, $\\hat{x}$ which maximizes the likelihood of the observed measurements $\\tilde{y}$:\n",
    "\n",
    "$\n",
    "p(y = \\tilde{y} | x = \\hat{x})\n",
    "$"
   ]
  },
  {
   "cell_type": "code",
   "execution_count": 3,
   "metadata": {},
   "outputs": [],
   "source": [
    "import numpy as np\n",
    "import matplotlib.pyplot as plt\n",
    "import numpy.linalg as LA\n",
    "\n",
    "%matplotlib inline"
   ]
  },
  {
   "cell_type": "markdown",
   "metadata": {},
   "source": [
    "### Setup"
   ]
  },
  {
   "cell_type": "code",
   "execution_count": 4,
   "metadata": {},
   "outputs": [],
   "source": [
    "# number of samples\n",
    "# the larger this value the more\n",
    "# accurate the x hat will be.\n",
    "n_samples = 100\n",
    "\n",
    "# size of state\n",
    "n = 4"
   ]
  },
  {
   "cell_type": "code",
   "execution_count": 5,
   "metadata": {},
   "outputs": [],
   "source": [
    "def make_H(m, degree, t):\n",
    "    \"\"\"\n",
    "    Creates a matrix where\n",
    "    each row is of the form:\n",
    "    \n",
    "        [t**degree, t**(degree-1), ..., 1]\n",
    "    \"\"\"\n",
    "    H = np.zeros((m, degree))\n",
    "    for i in np.arange(degree-1, -1, -1):\n",
    "        H[:, -i-1] = t**i\n",
    "    return H"
   ]
  },
  {
   "cell_type": "code",
   "execution_count": 6,
   "metadata": {},
   "outputs": [],
   "source": [
    "# known constants\n",
    "t = np.random.uniform(-5, 5, n_samples)\n",
    "H = make_H(n_samples, n, t)\n",
    "\n",
    "# state, unknown in practice\n",
    "x = np.random.randn(n) * 2"
   ]
  },
  {
   "cell_type": "markdown",
   "metadata": {},
   "source": [
    "### Collecting Observations\n",
    "\n",
    "First you'll have to collect $m$ noisy observations, these will be used later to estimate $x$.\n",
    "\n",
    "**NOTE: You may have not encountered the `@` syntax. In a nutshell, `np.dot(H, x)` is equivalent to `H @ x`. If the equation contains multiple matrix multiplications, using `@` provides a much more comprehensible expression. **"
   ]
  },
  {
   "cell_type": "code",
   "execution_count": 7,
   "metadata": {},
   "outputs": [],
   "source": [
    "# DONE: collect m noisy observations, the noise distribution should be gaussian\n",
    "y_obs = H @ x + np.random.normal(0, 1, size=(n_samples))"
   ]
  },
  {
   "cell_type": "code",
   "execution_count": 8,
   "metadata": {},
   "outputs": [
    {
     "data": {
      "text/plain": [
       "Text(0.5,1,'Noisy Observations')"
      ]
     },
     "execution_count": 8,
     "metadata": {},
     "output_type": "execute_result"
    },
    {
     "data": {
      "image/png": "[encoded data removed]",
      "text/plain": [
       "<matplotlib.figure.Figure at 0x7f862011a278>"
      ]
     },
     "metadata": {
      "needs_background": "light"
     },
     "output_type": "display_data"
    }
   ],
   "source": [
    "plt.plot(t, y_obs, 'bx')\n",
    "plt.title(\"Noisy Observations\")"
   ]
  },
  {
   "cell_type": "markdown",
   "metadata": {},
   "source": [
    "The observations plot produces a polynomial of order `len(x) - 1`, i.e. a 4-element state produces a 3rd order polynomial. In this case the state $x$ are the coefficients of the polynomial. By generating observation from evaluating the polynomial at several different points we can gain a good approximation of the original state.\n",
    "\n",
    "As one might imagine, recovering a good approximation of the state requires more samples as the order of the polynomial increases."
   ]
  },
  {
   "cell_type": "markdown",
   "metadata": {},
   "source": [
    "### Estimating $x$ \n",
    "\n",
    "Given enough samples $\\hat{x}$ should converge to $x$. The exact number of measurements required depends on the complexity of mapping the state space to the measurement space, $H$ and how noisy the measurements are, determined by $v$.\n",
    "\n",
    "Recall from lecture:\n",
    "\n",
    "$\n",
    "\\hat{x} = (H^T H)^{-1} H^T \\tilde{y}\n",
    "$\n",
    "\n",
    "$\\hat{x}$ should be similar to $x$."
   ]
  },
  {
   "cell_type": "code",
   "execution_count": 9,
   "metadata": {},
   "outputs": [],
   "source": [
    "## DONE: calculate x_hat\n",
    "x_hat = LA.pinv(H.T @ H) @ H.T @ y_obs"
   ]
  },
  {
   "cell_type": "code",
   "execution_count": 10,
   "metadata": {},
   "outputs": [
    {
     "name": "stdout",
     "output_type": "stream",
     "text": [
      "[-0.8268513  -0.61902772 -0.39111827 -2.37233387]\n",
      "[-0.83843396 -0.60170345 -0.19310952 -2.6500644 ]\n"
     ]
    }
   ],
   "source": [
    "print(x_hat)\n",
    "print(x)"
   ]
  },
  {
   "cell_type": "markdown",
   "metadata": {},
   "source": [
    "[Solution](./Least-Squares-Solution.ipynb)"
   ]
  },
  {
   "cell_type": "code",
   "execution_count": null,
   "metadata": {},
   "outputs": [],
   "source": []
  }
 ],
 "metadata": {
  "kernelspec": {
   "display_name": "Python 3",
   "language": "python",
   "name": "python3"
  },
  "language_info": {
   "codemirror_mode": {
    "name": "ipython",
    "version": 3
   },
   "file_extension": ".py",
   "mimetype": "text/x-python",
   "name": "python",
   "nbconvert_exporter": "python",
   "pygments_lexer": "ipython3",
   "version": "3.6.3"
  }
 },
 "nbformat": 4,
 "nbformat_minor": 2
}
